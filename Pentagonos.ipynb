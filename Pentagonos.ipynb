{
 "cells": [
  {
   "cell_type": "markdown",
   "metadata": {
    "slideshow": {
     "slide_type": "slide"
    }
   },
   "source": [
    "### Novidades em ladrilhos pentagonais\n",
    "\n",
    "É muito raro que um resultado novo em matemática seja imediatamente compreensível para um público leigo. Mas este é o caso de um resultado anunciado em julho de 2015 pelos pesquisadores Casey Mann, Jennifer McLoud, and David Von Derau\n",
    "da  Universidade de Washington Bothell nos EUA. \n",
    "\n",
    "Eles descobriram o décimo quinto tipo de **Pentágono** convexo que pode pavimentar (ou ladrilhar) o plano.\n",
    "\n",
    "![Novo Pentágono](Prototile_p5-type15.png \"Este é o novo Pentágono\")"
   ]
  },
  {
   "cell_type": "markdown",
   "metadata": {
    "slideshow": {
     "slide_type": "slide"
    }
   },
   "source": [
    "### Ladrilhamento por polígonos convexos\n",
    "\n",
    "Ladrilhar um plano com um polígono convexo significa cobrir todo o plano com cópias congruentes do polígono sem deixar frestas e sem sobreposição das cópias:\n"
   ]
  },
  {
   "cell_type": "markdown",
   "metadata": {
    "slideshow": {
     "slide_type": "slide"
    }
   },
   "source": [
    "![exemplo de um ladrilhamento do plano](P5-type15-chiral_coloring.png \"Exemplo de Ladrilhamento\")"
   ]
  },
  {
   "cell_type": "markdown",
   "metadata": {
    "slideshow": {
     "slide_type": "slide"
    }
   },
   "source": [
    "### Polígonos convexos e não convexos\n",
    "\n",
    "![Poligonos concavos e convexos](concavoconvexo.svg \"Polígonos convexos\")"
   ]
  },
  {
   "cell_type": "markdown",
   "metadata": {
    "slideshow": {
     "slide_type": "slide"
    }
   },
   "source": [
    "#### Histórico:\n",
    "Em 1918 o matemático alemão **Karl Reinhardt** listou cinco tipos de pentágonos que ladrilham o plano. Aqui está a figura de suas descobertas, mas porque ele escolheu o pentágono?\n"
   ]
  },
  {
   "cell_type": "markdown",
   "metadata": {
    "slideshow": {
     "slide_type": "subslide"
    }
   },
   "source": [
    "### Tipo 1\n",
    "\n",
    " Primeiro Tipo         |    Ladrilho \n",
    " ----------------------|----------------------\n",
    " ![Pentagono tipo 1](P5-type1.png) | ![ladrilho tipo1](Lattice_p5-type1.png)\n",
    "\n",
    "$$B+C = 180^\\circ \\text{ e } A+D+E = 360^\\circ$$"
   ]
  },
  {
   "cell_type": "markdown",
   "metadata": {
    "slideshow": {
     "slide_type": "subslide"
    }
   },
   "source": [
    "### Tipo 2\n",
    "Segundo tipo | Ladrilho\n",
    "---------------|----------\n",
    "![tipo2](P5-type2-chiral_coloring.png) |![](Lattice_p5-type2.png)\n",
    "\n",
    "$$c=e \\text{ e } B+D=180^\\circ$$"
   ]
  },
  {
   "cell_type": "markdown",
   "metadata": {
    "slideshow": {
     "slide_type": "subslide"
    }
   },
   "source": [
    "### Tipo 3\n",
    "terceiro tipo | ladrilho\n",
    "----------------|------------------------\n",
    "![tipo 3](P5-type3.png)|![tipo3](Lattice_p5-type3.png)\n",
    "\n",
    "$$a=b \\text{ e } A+C+D=120^\\circ$$"
   ]
  },
  {
   "cell_type": "markdown",
   "metadata": {
    "slideshow": {
     "slide_type": "subslide"
    }
   },
   "source": [
    "### Tipo 4\n",
    "Quarto tipo | ladrilho\n",
    "-------------|----------------\n",
    "![tipo 4](P5-type4.png)|![tipo4](Lattice_p5-type4.png)\n",
    "\n",
    "$$b=c, d=e \\text{ e }B=D=90^\\circ$$"
   ]
  },
  {
   "cell_type": "markdown",
   "metadata": {
    "slideshow": {
     "slide_type": "subslide"
    }
   },
   "source": [
    "### Tipo 5\n",
    "Quinto tipo | ladrilho \n",
    "------------|------------\n",
    "![tipo 5](P5-type5.png)|![tipo5](Lattice_p5-type5.png)\n",
    "$$a=b, d=e \\text{ e } A= 60^\\circ \\text{  } D=120^\\circ$$"
   ]
  },
  {
   "cell_type": "markdown",
   "metadata": {
    "slideshow": {
     "slide_type": "slide"
    }
   },
   "source": [
    "#### Porquê pentágonos\n",
    "Os pentagonos são os casos mais interessantes pois é fácil verificar que:\n",
    "* qualquer triângulo e qualquer quadrilátero ladrilham o plano\n",
    "* nenhum polígono convexo com mais de seis lados pode ladrilhar o plano\n",
    "* o hexágono regular ladrilha o plano, mas o pentágono regular não.\n",
    "\n"
   ]
  },
  {
   "cell_type": "markdown",
   "metadata": {
    "slideshow": {
     "slide_type": "slide"
    }
   },
   "source": [
    "![heptagonos](heptagono.svg)"
   ]
  },
  {
   "cell_type": "markdown",
   "metadata": {
    "slideshow": {
     "slide_type": "slide"
    }
   },
   "source": [
    "#### Richard B Kershner\n",
    "\n",
    "Em 1968, Richard B. Kershner da Universidade de John Hopkins encontrou mais quatro tipos de ladrilhamentos por pentágonos e escreveu em seu artigo \"On Paving the Plane\" que havia classificado todos os ladrilhamentos possíveis. \n",
    "De fato, ele acrescentou mais três tipos de ladrilhamentos:\n"
   ]
  },
  {
   "cell_type": "markdown",
   "metadata": {
    "slideshow": {
     "slide_type": "subslide"
    }
   },
   "source": [
    "### Tipo 6\n",
    "\n",
    " Sexto tipo | Ladrilhos | Reticulado\n",
    " -----------|-----------|------------\n",
    " ![](P5-type6.png)|![](Prototile_p5-type6.png)|![](Lattice_p5-type6.png)\n",
    " \n",
    " $$ a=d=e \\text{ e } b=c$$"
   ]
  },
  {
   "cell_type": "markdown",
   "metadata": {
    "slideshow": {
     "slide_type": "subslide"
    }
   },
   "source": [
    "### Tipo 7\n",
    "\n",
    " Sétimo tipo | Ladrilhos | Reticulado\n",
    " -----------|-----------|------------\n",
    " ![](P5-type7.png)|![](Prototile_p5-type7.png)|![](Lattice_p5-type7.png)\n",
    " \n",
    " $$  b=c=d=e \\text{ e } B+2E=2C+D=360^\\circ$$"
   ]
  },
  {
   "cell_type": "markdown",
   "metadata": {
    "slideshow": {
     "slide_type": "subslide"
    }
   },
   "source": [
    "### Tipo 8\n",
    "\n",
    " Oitavo tipo | Ladrilhos | Reticulado\n",
    " -----------|-----------|------------\n",
    " ![](P5-type8-chiral_coloring.png)|![](Prototile_p5-type8.png)|![](Lattice_p5-type8.png)\n",
    " \n",
    " $$  b=c=d=e \\text{ e } 2B+C=D+2E=360^\\circ$$"
   ]
  },
  {
   "cell_type": "markdown",
   "metadata": {
    "slideshow": {
     "slide_type": "slide"
    }
   },
   "source": [
    "Mas na década de 1970, Martin Gardner, que mantinha uma coluna sobre matemática na revista *Scientific American* escreveu sobre a descorta de Kershner. Em 1975 um pesquisador na área de computação descobriu um novo tipo que não havia sido considerado por Kerschner: O exemplo de Richard James III:\n",
    "\n"
   ]
  },
  {
   "cell_type": "markdown",
   "metadata": {
    "slideshow": {
     "slide_type": "slide"
    }
   },
   "source": [
    "#### Marjorie Rice\n",
    "Em 1975, Marjorie Rice era uma dona de casa de 53 anos que leu o artigo de Martin Gardner na Scientific American e escreveu-lhe com quatro diferentes tipos de ladrilhamentos. \n"
   ]
  },
  {
   "cell_type": "markdown",
   "metadata": {
    "slideshow": {
     "slide_type": "slide"
    }
   },
   "source": [
    "Antes da recente descoberta a última contribuição havia sido de Rolf Stein em 1985. Mas a classificação de todos os ladrilhamentos por pentágonos é aindo um problema não resolvido."
   ]
  },
  {
   "cell_type": "markdown",
   "metadata": {
    "slideshow": {
     "slide_type": "slide"
    }
   },
   "source": [
    "#### Outros problemas ainda não resolvidos\n",
    "\n",
    "* Classificar todos os ladrilhamentos por pentágonos convexos que tenham os cinco lados de mesmo tamanho\n",
    "* Encontrar todas as formas de ladrilhar o plano com um determinado pentágono.\n",
    "\n",
    "O problema da classificação de todos os hexágonos convexos foi resolvido por Bella Bolobás em 1963 e (de modo independente) por Richard Kershner no artigo de 1968 *On paving the plane*."
   ]
  },
  {
   "cell_type": "code",
   "execution_count": null,
   "metadata": {
    "collapsed": true
   },
   "outputs": [],
   "source": []
  }
 ],
 "metadata": {
  "celltoolbar": "Slideshow",
  "kernelspec": {
   "display_name": "Python 3",
   "language": "python",
   "name": "python3"
  },
  "language_info": {
   "codemirror_mode": {
    "name": "ipython",
    "version": 3
   },
   "file_extension": ".py",
   "mimetype": "text/x-python",
   "name": "python",
   "nbconvert_exporter": "python",
   "pygments_lexer": "ipython3",
   "version": "3.4.3"
  }
 },
 "nbformat": 4,
 "nbformat_minor": 0
}
