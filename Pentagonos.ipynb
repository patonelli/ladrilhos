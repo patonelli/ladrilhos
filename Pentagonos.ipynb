{
 "cells": [
  {
   "cell_type": "markdown",
   "metadata": {
    "slideshow": {
     "slide_type": "slide"
    }
   },
   "source": [
    "### Novidades em ladrilhos pentagonais\n",
    "\n",
    "É muito raro que um resultado novo em matemática seja imediatamente compreensível para um público leigo. Mas este é o caso de um resultado anunciado em julho de 2015 pelos pesquisadores Casey Mann, Jennifer McLoud, and David Von Derau\n",
    "da  Universidade de Washington Bothell nos EUA. \n",
    "\n",
    "Eles descobriram o décimo quinto tipo de **Pentágono** convexo que pode pavimentar (ou ladrilhar) o plano.\n",
    "\n",
    "![Novo Pentágono](Prototile_p5-type15.png \"Este é o novo Pentágono\")"
   ]
  },
  {
   "cell_type": "markdown",
   "metadata": {
    "slideshow": {
     "slide_type": "slide"
    }
   },
   "source": [
    "### Ladrilhamento por polígonos convexos\n",
    "\n",
    "Ladrilhar um plano com um polígono convexo significa cobrir todo o plano com cópias congruentes do polígono sem deixar frestas e sem sobreposição das cópias:\n",
    "\n",
    "![exemplo de um ladrilhamento do plano](P5-type15-chiral_coloring.png \"Exemplo de Ladrilhamento\")"
   ]
  },
  {
   "cell_type": "markdown",
   "metadata": {
    "slideshow": {
     "slide_type": "slide"
    }
   },
   "source": [
    "### Polígonos convexos e não convexos\n",
    "\n",
    "![Poligonos concavos e convexos](concavoconvexo.svg \"Polígonos convexos\")"
   ]
  },
  {
   "cell_type": "markdown",
   "metadata": {
    "slideshow": {
     "slide_type": "slide"
    }
   },
   "source": [
    "#### Histórico:\n",
    "Em 1918 o matemático alemão Karl Reinhardt listou cinco tipos de pentágonos que ladrilham o plano. Aqui está a figura de suas descobertas, mas porque ele escolheu o pentágono?\n"
   ]
  },
  {
   "cell_type": "markdown",
   "metadata": {
    "slideshow": {
     "slide_type": "slide"
    }
   },
   "source": [
    "#### Porquê pentágonos\n",
    "Os pentagonos são os casos mais interessantes pois é fácil verificar que:\n",
    "* qualquer triângulo e qualquer quadrilátero ladrilham o plano\n",
    "* nenhum polígono convexo com mais de seis lados pode ladrilhar o plano\n",
    "* o hexágono regular ladrilha o plano, mas o pentágono regular não.\n",
    "\n",
    "![heptagonos](heptagono.svg)"
   ]
  },
  {
   "cell_type": "markdown",
   "metadata": {
    "slideshow": {
     "slide_type": "slide"
    }
   },
   "source": [
    "#### Seriam só aqueles?\n",
    "\n",
    "Em 1968, Richard B. Kershner da Universidade de John Hopkins encontrou mais quatro tipos de ladrilhamentos por pentágonos e escreveu em seu artigo \"On Paving the Plane\" que havia classificado todos os ladrilhamentos possíveis. \n"
   ]
  },
  {
   "cell_type": "markdown",
   "metadata": {
    "slideshow": {
     "slide_type": "slide"
    }
   },
   "source": [
    "Mas na década de 1970, Martin Gardner, que mantinha uma coluna sobre matemática na revista *Scientific American* escreveu sobre a descorta de Kershner. Em 1975 um pesquisador na área de computação descobriu um novo tipo que não havia sido considerado por Kerschner: O exemplo de Richard James III:\n",
    "\n"
   ]
  },
  {
   "cell_type": "markdown",
   "metadata": {
    "slideshow": {
     "slide_type": "slide"
    }
   },
   "source": [
    "#### Marjorie Rice\n",
    "Em 1975, Marjorie Rice era uma dona de casa de 53 anos que leu o artigo de Martin Gardner na Scientific American e escreveu-lhe com quatro diferentes tipos de ladrilhamentos. \n"
   ]
  },
  {
   "cell_type": "markdown",
   "metadata": {
    "slideshow": {
     "slide_type": "slide"
    }
   },
   "source": [
    "Antes da recente descoberta a última contribuição havia sido de Rolf Stein em 1985. Mas a classificação de todos os ladrilhamentos por pentágonos é aindo um problema não resolvido."
   ]
  },
  {
   "cell_type": "markdown",
   "metadata": {
    "slideshow": {
     "slide_type": "slide"
    }
   },
   "source": [
    "#### Outros problemas ainda não resolvidos\n",
    "\n",
    "* Classificar todos os ladrilhamentos por pentágonos convexos que tenham os cinco lados de mesmo tamanho\n",
    "* Encontrar todas as formas de ladrilhar o plano com um determinado pentágono.\n",
    "\n",
    "O problema da classificação de todos os hexágonos convexos foi resolvido por Bella Bolobás em 1963 e (de modo independente) por Richard Kershner no artigo de 1968 *On paving the plane*."
   ]
  },
  {
   "cell_type": "code",
   "execution_count": null,
   "metadata": {
    "collapsed": true
   },
   "outputs": [],
   "source": []
  }
 ],
 "metadata": {
  "celltoolbar": "Slideshow",
  "kernelspec": {
   "display_name": "Python 3",
   "language": "python",
   "name": "python3"
  },
  "language_info": {
   "codemirror_mode": {
    "name": "ipython",
    "version": 3
   },
   "file_extension": ".py",
   "mimetype": "text/x-python",
   "name": "python",
   "nbconvert_exporter": "python",
   "pygments_lexer": "ipython3",
   "version": "3.4.3"
  }
 },
 "nbformat": 4,
 "nbformat_minor": 0
}
